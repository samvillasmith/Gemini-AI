{
 "cells": [
  {
   "cell_type": "code",
   "execution_count": 39,
   "id": "68c875ca",
   "metadata": {},
   "outputs": [],
   "source": [
    "import google.generativeai as genai \n",
    "from dotenv import load_dotenv\n",
    "import os\n",
    "# Load environment variables from .env file\n",
    "load_dotenv()\n",
    "\n",
    "# Access environment variables\n",
    "api_key = os.getenv(\"API_KEY\")"
   ]
  },
  {
   "cell_type": "code",
   "execution_count": 40,
   "id": "a710b41e",
   "metadata": {},
   "outputs": [],
   "source": [
    "genai.configure(api_key=api_key)"
   ]
  },
  {
   "cell_type": "code",
   "execution_count": 41,
   "id": "e78754a4",
   "metadata": {},
   "outputs": [],
   "source": [
    "model = genai.GenerativeModel('gemini-2.5-pro')"
   ]
  },
  {
   "cell_type": "code",
   "execution_count": 42,
   "id": "926a9883",
   "metadata": {},
   "outputs": [],
   "source": [
    "config = genai.types.GenerationConfig(temperature=1.0, max_output_tokens=2000)"
   ]
  },
  {
   "cell_type": "markdown",
   "id": "7cadd685",
   "metadata": {},
   "source": [
    "Higher temp + more creative, wider range of responses\n",
    "Lower temp + more focused, deterministic responses\n",
    "Lower max output tokens + shorter responses\n",
    "Higher max output tokens + longer responses"
   ]
  },
  {
   "cell_type": "code",
   "execution_count": 43,
   "id": "ff96973b",
   "metadata": {},
   "outputs": [],
   "source": [
    "def get_response(prompt, generation_config):\n",
    "    response = model.generate_content(contents=prompt, generation_config=config)\n",
    "    return response"
   ]
  },
  {
   "cell_type": "code",
   "execution_count": 44,
   "id": "49f49f1f",
   "metadata": {},
   "outputs": [],
   "source": [
    "result = get_response(\"Tell me a creative story about Napoleon Bonaparte as a young man\", config)"
   ]
  },
  {
   "cell_type": "code",
   "execution_count": 45,
   "id": "aa9a053a",
   "metadata": {},
   "outputs": [
    {
     "name": "stdout",
     "output_type": "stream",
     "text": [
      "The year is 1793. The air outside Toulon is thick with the stink of wet wool, despair, and the brackish scent of the nearby sea. Rain, a relentless autumn drizzle, has turned the French revolutionary army’s camp into a soupy morass.\n",
      "\n",
      "Here, amidst the squalor, a young man stood apart. He was not tall, and his frame was whippet-thin, but he held himself with an unnerving stillness. His uniform, that of a mere Captain of Artillery, was worn but immaculate. His face was sallow, his hair lank and dark, but his eyes—his eyes were the colour of a stormy sky, and they missed nothing. His name was Napoleone di Buonaparte, a name that still tasted of Corsican soil and outsider status.\n",
      "\n",
      "He was 24 years old, and he was surrounded by fools.\n",
      "\n",
      "General Jean-François Carteaux, a man who had been a painter before the Revolution gifted him a command, was gesturing grandly at a map with a sausage-like finger. \"We shall bombard them from the front,\" he declared to his sycophantic staff. \"A grand battery here! We will pound their walls into dust!\"\n",
      "\n",
      "Buonaparte, standing at the back of the tent, felt a familiar surge of cold fury. He had studied the topography for days, sleeping only in snatched, feverish hours. He saw the problem not as a wall to be battered, but as a geometric puzzle to be solved.\n",
      "\n",
      "He stepped forward. \"General,\" he said, his voice quiet but carrying a strange, resonant authority. The other officers turned, some with amusement, some with irritation.\n",
      "\n",
      "\"The city is not the key,\" Buonaparte continued, his finger tracing a line on his own, meticulously drawn map. \"The harbour is the key. The British fleet under Admiral Hood is their lifeblood. Force the fleet to leave, and Toulon will fall like a rotten apple.\"\n",
      "\n",
      "Carteaux squinted. \"And how do you propose we do that, Captain? Ask them politely?\"\n",
      "\n",
      "Laughter ri\n"
     ]
    }
   ],
   "source": [
    "print(result.text)"
   ]
  },
  {
   "cell_type": "code",
   "execution_count": 53,
   "id": "bb3150b1",
   "metadata": {},
   "outputs": [
    {
     "name": "stdout",
     "output_type": "stream",
     "text": [
      "Here are two short facts about Emperor Napoleon I:\n",
      "\n",
      "1.  **He wasn't actually short.** Napoleon was about 5'7\", which was average height for a Frenchman of his time. The myth was largely created by British propaganda and a difference between French and British units of measurement.\n",
      "\n",
      "2.  **His most lasting legacy was a legal system.** The Napoleonic Code, which he established, reformed France's laws and is still the basis for the civil law systems in many countries around the world today.\n"
     ]
    }
   ],
   "source": [
    "config = genai.types.GenerationConfig(temperature=0.5, max_output_tokens=2000)\n",
    "result = get_response(\"Tell me 2 short facts about Emperor Napoleon I\", config)\n",
    "print(result.text)"
   ]
  },
  {
   "cell_type": "code",
   "execution_count": 54,
   "id": "11b2f58c",
   "metadata": {},
   "outputs": [
    {
     "name": "stdout",
     "output_type": "stream",
     "text": [
      "Of course!\n",
      "\n",
      "The biggest Portuguese-speaking nation, by a very large margin in both population and land area, is **Brazil**.\n",
      "\n",
      "Officially the Federative Republic of Brazil, it is the giant of South America and the only country on the continent whose primary language is Portuguese.\n",
      "\n",
      "Here are some key facts about Brazil:\n",
      "\n",
      "### Geography and Environment\n",
      "\n",
      "*   **Vast Size:** Brazil is the 5th largest country in the world by land area, covering nearly half of the entire South American continent.\n",
      "*   **The Amazon Rainforest:** It is home to about 60% of the Amazon Rainforest, the largest tropical rainforest in the world. This incredible ecosystem is often called the \"Lungs of the World\" and holds unparalleled biodiversity.\n",
      "*   **Extensive Coastline:** Brazil has a continuous coastline along the Atlantic Ocean that stretches for 7,491 kilometers (4,655 miles), famous for its stunning beaches like Copacabana and Ipanema in Rio de Janeiro.\n",
      "*   **Borders:** It borders every other country in South America except for Chile and Ecuador.\n",
      "\n",
      "### Population and Culture\n",
      "\n",
      "*   **A Melting Pot:** With a population of over 215 million people, Brazil is incredibly diverse. Its culture is a rich blend of Indigenous, European (especially Portuguese), African, and Asian influences. It has the largest population of Japanese descent outside of Japan.\n",
      "*   **Carnival:** Brazil is world-famous for its Carnival celebrations. The festival in Rio de Janeiro is the biggest in the world, attracting millions of people with its vibrant parades, samba music, and elaborate costumes.\n",
      "*   **Language:** While Portuguese is the official language, Brazilian Portuguese has a distinct accent and its own slang, setting it apart from the Portuguese spoken in Portugal.\n",
      "*   **National Dish:** The national dish is **Feijoada**, a hearty stew of black beans, pork, and beef that is traditionally served with rice, collard greens, and orange slices.\n",
      "\n",
      "### Economy and Resources\n",
      "\n",
      "*   **Economic Powerhouse:** Brazil has one of the largest economies in the world and is a major global producer of many commodities.\n",
      "*   **Agricultural Giant:** It is the world's largest producer and exporter of coffee, soybeans, and sugar. It is also a leading producer of beef and oranges.\n",
      "*   **Natural Resources:** The country is rich in natural resources, including iron ore, bauxite, and timber.\n",
      "\n",
      "### Sports\n",
      "\n",
      "*   **Football (Soccer) is a Religion:** Football is by far the most popular sport. The Brazilian national team, known as the *Seleção*, is legendary.\n",
      "*   **Record-Breaking Success:** Brazil is the only country to have played in every FIFA World Cup and has won the tournament a record **five times**.\n",
      "*   **Home of Legends:** It has produced some of the greatest footballers of all time, including **Pelé**, **Ronaldo**, **Ronaldinho**, and **Neymar**.\n",
      "\n",
      "### Unique and Fun Facts\n",
      "\n",
      "*   **The Capital is a Planned City:** Many people think Rio de Janeiro or São Paulo is the capital, but it is actually **Brasília**. The entire city was planned and built from scratch in the 1950s and is famous for its unique, futuristic architecture designed by Oscar Niemeyer.\n",
      "*   **Christ the Redeemer:** The iconic statue overlooking Rio de Janeiro is one of the New Seven Wonders of the World.\n",
      "*   **Named After a Tree:** The country gets its name from the *pau-brasil*, or Brazilwood tree, which produced a valuable deep red dye and was the first resource to be commercially exploited by the Portuguese.\n"
     ]
    }
   ],
   "source": [
    "config = genai.types.GenerationConfig(temperature=0.1, top_k=1, top_p=0)\n",
    "result = get_response(\"Tell me the biggest Portuguese speaking nation and tell me some facts about it\", config)\n",
    "print(result.text)"
   ]
  },
  {
   "cell_type": "markdown",
   "id": "8fb8f413",
   "metadata": {},
   "source": [
    "Stop sequences can also be added to the GenerationConfig to stop generation when any of the specified sequences are generated."
   ]
  },
  {
   "cell_type": "code",
   "execution_count": 57,
   "id": "6269fcf3",
   "metadata": {},
   "outputs": [
    {
     "name": "stdout",
     "output_type": "stream",
     "text": [
      "Of course. Here are a few options, from a standard template to a more detailed one.\n",
      "\n",
      "### Option 1: Standard and Professional (Most Common)\n",
      "\n",
      "This template is a safe and effective choice for almost any interview situation.\n",
      "\n",
      "**Subject:** Thank you - [Job Title] Interview\n",
      "\n",
      "Dear [Interviewer's Name],\n",
      "\n",
      "Thank you very much for taking the time to speak with me today about the [Job Title] position at [Company Name]. I truly enjoyed our conversation and learning more about the role, the team, and the company's goals.\n",
      "\n",
      "I was particularly interested in hearing about [mention a specific project, challenge, or aspect of the company culture you discussed]. Our conversation confirmed my enthusiasm for this opportunity, and I am confident that my skills in [mention 1-2 key skills] would be a valuable asset to your team.\n",
      "\n",
      "I am very excited about the prospect of joining [Company Name]. Please let me know if there is any other information I can provide.\n",
      "\n",
      "\n"
     ]
    }
   ],
   "source": [
    "config = genai.types.GenerationConfig(stop_sequences=['Sincerely'])\n",
    "result = get_response(\"Write an email that thanks the job interviewer, end with 'Sincerely,'\", config)\n",
    "print(result.text)"
   ]
  },
  {
   "cell_type": "code",
   "execution_count": null,
   "id": "d7144acb",
   "metadata": {},
   "outputs": [],
   "source": []
  }
 ],
 "metadata": {
  "kernelspec": {
   "display_name": "genaivenv",
   "language": "python",
   "name": "python3"
  },
  "language_info": {
   "codemirror_mode": {
    "name": "ipython",
    "version": 3
   },
   "file_extension": ".py",
   "mimetype": "text/x-python",
   "name": "python",
   "nbconvert_exporter": "python",
   "pygments_lexer": "ipython3",
   "version": "3.13.5"
  }
 },
 "nbformat": 4,
 "nbformat_minor": 5
}
